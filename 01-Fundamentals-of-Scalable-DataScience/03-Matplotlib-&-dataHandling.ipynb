{
 "cells": [
  {
   "cell_type": "code",
   "execution_count": 1,
   "metadata": {},
   "outputs": [],
   "source": [
    "# Imports\n",
    "from pyspark.sql import SparkSession \n",
    "from pyspark.sql import SQLContext"
   ]
  },
  {
   "cell_type": "code",
   "execution_count": 2,
   "metadata": {},
   "outputs": [
    {
     "name": "stdout",
     "output_type": "stream",
     "text": [
      "<SparkContext master=local[*] appName=PySparkShell>\n"
     ]
    }
   ],
   "source": [
    "print(sc)"
   ]
  },
  {
   "cell_type": "code",
   "execution_count": 3,
   "metadata": {},
   "outputs": [],
   "source": [
    "# 1 - Spark Session (to work with spark)\n",
    "spSession = SparkSession.builder.master(\"local\").appName(\"SparkSQL\").getOrCreate()"
   ]
  },
  {
   "cell_type": "code",
   "execution_count": 4,
   "metadata": {},
   "outputs": [],
   "source": [
    "# 2 - Initialize SQLContext (to work with Spark SQL) \n",
    "sqlContext = SQLContext(sc)"
   ]
  },
  {
   "cell_type": "code",
   "execution_count": 5,
   "metadata": {
    "scrolled": true
   },
   "outputs": [
    {
     "name": "stdout",
     "output_type": "stream",
     "text": [
      "--2021-02-23 13:01:31--  https://github.com/IBM/coursera/blob/master/coursera_ds/washing.parquet?raw=true\n",
      "Resolving github.com (github.com)... 140.82.112.3\n",
      "Connecting to github.com (github.com)|140.82.112.3|:443... connected.\n",
      "HTTP request sent, awaiting response... 301 Moved Permanently\n",
      "Location: https://github.com/IBM/skillsnetwork/blob/master/coursera_ds/washing.parquet?raw=true [following]\n",
      "--2021-02-23 13:01:31--  https://github.com/IBM/skillsnetwork/blob/master/coursera_ds/washing.parquet?raw=true\n",
      "Reusing existing connection to github.com:443.\n",
      "HTTP request sent, awaiting response... 302 Found\n",
      "Location: https://github.com/IBM/skillsnetwork/raw/master/coursera_ds/washing.parquet [following]\n",
      "--2021-02-23 13:01:32--  https://github.com/IBM/skillsnetwork/raw/master/coursera_ds/washing.parquet\n",
      "Reusing existing connection to github.com:443.\n",
      "HTTP request sent, awaiting response... 302 Found\n",
      "Location: https://raw.githubusercontent.com/IBM/skillsnetwork/master/coursera_ds/washing.parquet [following]\n",
      "--2021-02-23 13:01:32--  https://raw.githubusercontent.com/IBM/skillsnetwork/master/coursera_ds/washing.parquet\n",
      "Resolving raw.githubusercontent.com (raw.githubusercontent.com)... 185.199.109.133, 185.199.111.133, 185.199.108.133, ...\n",
      "Connecting to raw.githubusercontent.com (raw.githubusercontent.com)|185.199.109.133|:443... connected.\n",
      "HTTP request sent, awaiting response... 200 OK\n",
      "Length: 112048 (109K) [application/octet-stream]\n",
      "Saving to: ‘washing.parquet?raw=true’\n",
      "\n",
      "washing.parquet?raw 100%[===================>] 109,42K  --.-KB/s    in 0,07s   \n",
      "\n",
      "2021-02-23 13:01:32 (1,58 MB/s) - ‘washing.parquet?raw=true’ saved [112048/112048]\n",
      "\n"
     ]
    }
   ],
   "source": [
    "# To grab a PARQUET file and create a dataframe out of it\n",
    "!wget https://github.com/IBM/coursera/blob/master/coursera_ds/washing.parquet?raw=true\n",
    "!mv washing.parquet?raw=true washing.parquet"
   ]
  },
  {
   "cell_type": "code",
   "execution_count": 6,
   "metadata": {
    "scrolled": true
   },
   "outputs": [
    {
     "name": "stdout",
     "output_type": "stream",
     "text": [
      "+--------------------+--------------------+-----+--------+----------+---------+--------+-----+-----------+-------------+-------+\n",
      "|                 _id|                _rev|count|flowrate|fluidlevel|frequency|hardness|speed|temperature|           ts|voltage|\n",
      "+--------------------+--------------------+-----+--------+----------+---------+--------+-----+-----------+-------------+-------+\n",
      "|0d86485d0f88d1f9d...|1-57940679fb8a713...|    4|      11|acceptable|     null|      77| null|        100|1547808723923|   null|\n",
      "|0d86485d0f88d1f9d...|1-15ff3a0b304d789...|    2|    null|      null|     null|    null| 1046|       null|1547808729917|   null|\n",
      "|0d86485d0f88d1f9d...|1-97c2742b68c7b07...|    4|    null|      null|       71|    null| null|       null|1547808731918|    236|\n",
      "|0d86485d0f88d1f9d...|1-eefb903dbe45746...|   19|      11|acceptable|     null|      75| null|         86|1547808738999|   null|\n",
      "|0d86485d0f88d1f9d...|1-5f68b4c72813c25...|    7|    null|      null|       75|    null| null|       null|1547808740927|    235|\n",
      "|0d86485d0f88d1f9d...|1-cd4b6c57ddbe77e...|    5|    null|      null|     null|    null| 1014|       null|1547808744923|   null|\n",
      "|0d86485d0f88d1f9d...|1-a35b25b5bf43aaf...|   32|      11|acceptable|     null|      73| null|         84|1547808752028|   null|\n",
      "|0d86485d0f88d1f9d...|1-b717f7289a8476d...|   48|      11|acceptable|     null|      79| null|         84|1547808768065|   null|\n",
      "|0d86485d0f88d1f9d...|1-c2f1f8fcf178b2f...|   18|    null|      null|       73|    null| null|       null|1547808773944|    228|\n",
      "|0d86485d0f88d1f9d...|1-15033dd9eebb4a8...|   59|      11|acceptable|     null|      72| null|         96|1547808779093|   null|\n",
      "|0d86485d0f88d1f9d...|1-753dae825f9a6c2...|   62|      11|acceptable|     null|      73| null|         88|1547808782113|   null|\n",
      "|0d86485d0f88d1f9d...|1-b168089f44f03f0...|   13|    null|      null|     null|    null| 1097|       null|1547808784940|   null|\n",
      "|0d86485d0f88d1f9d...|1-403b687c6be0dea...|   23|    null|      null|       80|    null| null|       null|1547808788955|    236|\n",
      "|0d86485d0f88d1f9d...|1-195551e0455a24b...|   72|      11|acceptable|     null|      77| null|         87|1547808792134|   null|\n",
      "|0d86485d0f88d1f9d...|1-060a39fc6c2ddee...|   26|    null|      null|       62|    null| null|       null|1547808797959|    233|\n",
      "|0d86485d0f88d1f9d...|1-2234514bffee465...|   27|    null|      null|       61|    null| null|       null|1547808800960|    226|\n",
      "|0d86485d0f88d1f9d...|1-4265898bb401db0...|   82|      11|acceptable|     null|      79| null|         96|1547808802154|   null|\n",
      "|0d86485d0f88d1f9d...|1-2fbf7ca9a0425a0...|   94|      11|acceptable|     null|      73| null|         90|1547808814186|   null|\n",
      "|0d86485d0f88d1f9d...|1-203c0ee6d7fbd21...|   97|      11|acceptable|     null|      77| null|         88|1547808817190|   null|\n",
      "|0d86485d0f88d1f9d...|1-47e1965db94fcab...|  104|      11|acceptable|     null|      75| null|         80|1547808824198|   null|\n",
      "+--------------------+--------------------+-----+--------+----------+---------+--------+-----+-----------+-------------+-------+\n",
      "only showing top 20 rows\n",
      "\n"
     ]
    }
   ],
   "source": [
    "# Dataframe to a temp view\n",
    "df = spark.read.parquet('washing.parquet')\n",
    "df.createOrReplaceTempView('washing')\n",
    "df.show()"
   ]
  },
  {
   "cell_type": "code",
   "execution_count": 7,
   "metadata": {},
   "outputs": [
    {
     "data": {
      "text/plain": [
       "pyspark.sql.dataframe.DataFrame"
      ]
     },
     "execution_count": 7,
     "metadata": {},
     "output_type": "execute_result"
    }
   ],
   "source": [
    "type(df)"
   ]
  },
  {
   "cell_type": "code",
   "execution_count": 8,
   "metadata": {},
   "outputs": [
    {
     "data": {
      "text/plain": [
       "2058"
      ]
     },
     "execution_count": 8,
     "metadata": {},
     "output_type": "execute_result"
    }
   ],
   "source": [
    "df.count()"
   ]
  },
  {
   "cell_type": "markdown",
   "metadata": {},
   "source": [
    "# BoxPlot"
   ]
  },
  {
   "cell_type": "code",
   "execution_count": 9,
   "metadata": {},
   "outputs": [
    {
     "data": {
      "text/plain": [
       "[Row(voltage=236),\n",
       " Row(voltage=235),\n",
       " Row(voltage=228),\n",
       " Row(voltage=236),\n",
       " Row(voltage=233),\n",
       " Row(voltage=226),\n",
       " Row(voltage=235),\n",
       " Row(voltage=220),\n",
       " Row(voltage=225),\n",
       " Row(voltage=239),\n",
       " Row(voltage=230),\n",
       " Row(voltage=236),\n",
       " Row(voltage=244),\n",
       " Row(voltage=235),\n",
       " Row(voltage=234),\n",
       " Row(voltage=224),\n",
       " Row(voltage=225),\n",
       " Row(voltage=223),\n",
       " Row(voltage=236),\n",
       " Row(voltage=226),\n",
       " Row(voltage=227),\n",
       " Row(voltage=237),\n",
       " Row(voltage=233),\n",
       " Row(voltage=226),\n",
       " Row(voltage=222),\n",
       " Row(voltage=228),\n",
       " Row(voltage=227),\n",
       " Row(voltage=228),\n",
       " Row(voltage=232),\n",
       " Row(voltage=225),\n",
       " Row(voltage=229),\n",
       " Row(voltage=224),\n",
       " Row(voltage=235),\n",
       " Row(voltage=233),\n",
       " Row(voltage=226),\n",
       " Row(voltage=239),\n",
       " Row(voltage=238),\n",
       " Row(voltage=222),\n",
       " Row(voltage=226),\n",
       " Row(voltage=236),\n",
       " Row(voltage=230),\n",
       " Row(voltage=235),\n",
       " Row(voltage=237),\n",
       " Row(voltage=225),\n",
       " Row(voltage=228),\n",
       " Row(voltage=221),\n",
       " Row(voltage=232),\n",
       " Row(voltage=221),\n",
       " Row(voltage=230),\n",
       " Row(voltage=231),\n",
       " Row(voltage=220),\n",
       " Row(voltage=235),\n",
       " Row(voltage=223),\n",
       " Row(voltage=231),\n",
       " Row(voltage=231),\n",
       " Row(voltage=236),\n",
       " Row(voltage=229),\n",
       " Row(voltage=230),\n",
       " Row(voltage=248),\n",
       " Row(voltage=223),\n",
       " Row(voltage=222),\n",
       " Row(voltage=238),\n",
       " Row(voltage=235),\n",
       " Row(voltage=234),\n",
       " Row(voltage=228),\n",
       " Row(voltage=233),\n",
       " Row(voltage=229),\n",
       " Row(voltage=221),\n",
       " Row(voltage=223),\n",
       " Row(voltage=235),\n",
       " Row(voltage=220),\n",
       " Row(voltage=232),\n",
       " Row(voltage=226),\n",
       " Row(voltage=239),\n",
       " Row(voltage=229),\n",
       " Row(voltage=229),\n",
       " Row(voltage=232),\n",
       " Row(voltage=220),\n",
       " Row(voltage=227),\n",
       " Row(voltage=244),\n",
       " Row(voltage=232),\n",
       " Row(voltage=228),\n",
       " Row(voltage=229),\n",
       " Row(voltage=225),\n",
       " Row(voltage=227),\n",
       " Row(voltage=230),\n",
       " Row(voltage=221),\n",
       " Row(voltage=221),\n",
       " Row(voltage=238),\n",
       " Row(voltage=235),\n",
       " Row(voltage=229),\n",
       " Row(voltage=222),\n",
       " Row(voltage=226),\n",
       " Row(voltage=237),\n",
       " Row(voltage=222),\n",
       " Row(voltage=235),\n",
       " Row(voltage=237),\n",
       " Row(voltage=228),\n",
       " Row(voltage=231),\n",
       " Row(voltage=237),\n",
       " Row(voltage=237),\n",
       " Row(voltage=236),\n",
       " Row(voltage=224),\n",
       " Row(voltage=231),\n",
       " Row(voltage=231),\n",
       " Row(voltage=234),\n",
       " Row(voltage=231),\n",
       " Row(voltage=234),\n",
       " Row(voltage=238),\n",
       " Row(voltage=225),\n",
       " Row(voltage=224),\n",
       " Row(voltage=229),\n",
       " Row(voltage=222),\n",
       " Row(voltage=239),\n",
       " Row(voltage=221),\n",
       " Row(voltage=236),\n",
       " Row(voltage=227),\n",
       " Row(voltage=228),\n",
       " Row(voltage=222),\n",
       " Row(voltage=234),\n",
       " Row(voltage=222),\n",
       " Row(voltage=235),\n",
       " Row(voltage=224),\n",
       " Row(voltage=238),\n",
       " Row(voltage=234),\n",
       " Row(voltage=234),\n",
       " Row(voltage=250),\n",
       " Row(voltage=224),\n",
       " Row(voltage=227),\n",
       " Row(voltage=232),\n",
       " Row(voltage=220),\n",
       " Row(voltage=228),\n",
       " Row(voltage=221),\n",
       " Row(voltage=224),\n",
       " Row(voltage=227),\n",
       " Row(voltage=231),\n",
       " Row(voltage=225),\n",
       " Row(voltage=231),\n",
       " Row(voltage=237),\n",
       " Row(voltage=228),\n",
       " Row(voltage=244),\n",
       " Row(voltage=236),\n",
       " Row(voltage=224),\n",
       " Row(voltage=230),\n",
       " Row(voltage=239),\n",
       " Row(voltage=229),\n",
       " Row(voltage=221),\n",
       " Row(voltage=235),\n",
       " Row(voltage=233),\n",
       " Row(voltage=239),\n",
       " Row(voltage=221),\n",
       " Row(voltage=248),\n",
       " Row(voltage=226),\n",
       " Row(voltage=233),\n",
       " Row(voltage=234),\n",
       " Row(voltage=238),\n",
       " Row(voltage=237),\n",
       " Row(voltage=221),\n",
       " Row(voltage=225),\n",
       " Row(voltage=220),\n",
       " Row(voltage=223),\n",
       " Row(voltage=223),\n",
       " Row(voltage=226),\n",
       " Row(voltage=232),\n",
       " Row(voltage=242),\n",
       " Row(voltage=221),\n",
       " Row(voltage=232),\n",
       " Row(voltage=237),\n",
       " Row(voltage=229),\n",
       " Row(voltage=232),\n",
       " Row(voltage=224),\n",
       " Row(voltage=229),\n",
       " Row(voltage=224),\n",
       " Row(voltage=233),\n",
       " Row(voltage=223),\n",
       " Row(voltage=225),\n",
       " Row(voltage=231),\n",
       " Row(voltage=237),\n",
       " Row(voltage=220),\n",
       " Row(voltage=221),\n",
       " Row(voltage=227),\n",
       " Row(voltage=220),\n",
       " Row(voltage=236),\n",
       " Row(voltage=234),\n",
       " Row(voltage=221),\n",
       " Row(voltage=231),\n",
       " Row(voltage=232),\n",
       " Row(voltage=237),\n",
       " Row(voltage=250),\n",
       " Row(voltage=240),\n",
       " Row(voltage=223),\n",
       " Row(voltage=225),\n",
       " Row(voltage=223),\n",
       " Row(voltage=225),\n",
       " Row(voltage=222),\n",
       " Row(voltage=231),\n",
       " Row(voltage=231),\n",
       " Row(voltage=239),\n",
       " Row(voltage=247),\n",
       " Row(voltage=230),\n",
       " Row(voltage=223),\n",
       " Row(voltage=230),\n",
       " Row(voltage=226),\n",
       " Row(voltage=221),\n",
       " Row(voltage=227),\n",
       " Row(voltage=226),\n",
       " Row(voltage=237),\n",
       " Row(voltage=227),\n",
       " Row(voltage=232),\n",
       " Row(voltage=238),\n",
       " Row(voltage=231),\n",
       " Row(voltage=253),\n",
       " Row(voltage=243),\n",
       " Row(voltage=252),\n",
       " Row(voltage=227),\n",
       " Row(voltage=237),\n",
       " Row(voltage=224),\n",
       " Row(voltage=222),\n",
       " Row(voltage=256),\n",
       " Row(voltage=252),\n",
       " Row(voltage=226),\n",
       " Row(voltage=236),\n",
       " Row(voltage=224),\n",
       " Row(voltage=232),\n",
       " Row(voltage=232),\n",
       " Row(voltage=231),\n",
       " Row(voltage=234),\n",
       " Row(voltage=227),\n",
       " Row(voltage=232),\n",
       " Row(voltage=220),\n",
       " Row(voltage=255),\n",
       " Row(voltage=254),\n",
       " Row(voltage=229),\n",
       " Row(voltage=223),\n",
       " Row(voltage=233),\n",
       " Row(voltage=223),\n",
       " Row(voltage=232),\n",
       " Row(voltage=224),\n",
       " Row(voltage=224),\n",
       " Row(voltage=226),\n",
       " Row(voltage=220),\n",
       " Row(voltage=225),\n",
       " Row(voltage=238),\n",
       " Row(voltage=247),\n",
       " Row(voltage=255),\n",
       " Row(voltage=226),\n",
       " Row(voltage=231),\n",
       " Row(voltage=225),\n",
       " Row(voltage=236),\n",
       " Row(voltage=238),\n",
       " Row(voltage=258),\n",
       " Row(voltage=258),\n",
       " Row(voltage=251),\n",
       " Row(voltage=228),\n",
       " Row(voltage=230),\n",
       " Row(voltage=222),\n",
       " Row(voltage=236),\n",
       " Row(voltage=251),\n",
       " Row(voltage=237),\n",
       " Row(voltage=235),\n",
       " Row(voltage=230),\n",
       " Row(voltage=221),\n",
       " Row(voltage=225),\n",
       " Row(voltage=233),\n",
       " Row(voltage=232),\n",
       " Row(voltage=246),\n",
       " Row(voltage=247),\n",
       " Row(voltage=220),\n",
       " Row(voltage=221),\n",
       " Row(voltage=236),\n",
       " Row(voltage=238),\n",
       " Row(voltage=229),\n",
       " Row(voltage=239),\n",
       " Row(voltage=221),\n",
       " Row(voltage=220),\n",
       " Row(voltage=237),\n",
       " Row(voltage=220),\n",
       " Row(voltage=234),\n",
       " Row(voltage=228),\n",
       " Row(voltage=221),\n",
       " Row(voltage=232),\n",
       " Row(voltage=238),\n",
       " Row(voltage=238),\n",
       " Row(voltage=234),\n",
       " Row(voltage=220),\n",
       " Row(voltage=233),\n",
       " Row(voltage=229),\n",
       " Row(voltage=230),\n",
       " Row(voltage=237),\n",
       " Row(voltage=224),\n",
       " Row(voltage=235),\n",
       " Row(voltage=239),\n",
       " Row(voltage=223),\n",
       " Row(voltage=229),\n",
       " Row(voltage=239),\n",
       " Row(voltage=233),\n",
       " Row(voltage=223),\n",
       " Row(voltage=229),\n",
       " Row(voltage=258),\n",
       " Row(voltage=220),\n",
       " Row(voltage=227),\n",
       " Row(voltage=221),\n",
       " Row(voltage=238),\n",
       " Row(voltage=223),\n",
       " Row(voltage=232),\n",
       " Row(voltage=232),\n",
       " Row(voltage=234),\n",
       " Row(voltage=232),\n",
       " Row(voltage=229),\n",
       " Row(voltage=231),\n",
       " Row(voltage=228),\n",
       " Row(voltage=236),\n",
       " Row(voltage=239),\n",
       " Row(voltage=222),\n",
       " Row(voltage=228),\n",
       " Row(voltage=220),\n",
       " Row(voltage=221),\n",
       " Row(voltage=236),\n",
       " Row(voltage=222),\n",
       " Row(voltage=238),\n",
       " Row(voltage=226),\n",
       " Row(voltage=239),\n",
       " Row(voltage=231),\n",
       " Row(voltage=233),\n",
       " Row(voltage=232),\n",
       " Row(voltage=226),\n",
       " Row(voltage=221),\n",
       " Row(voltage=239),\n",
       " Row(voltage=234),\n",
       " Row(voltage=235),\n",
       " Row(voltage=235),\n",
       " Row(voltage=231),\n",
       " Row(voltage=251),\n",
       " Row(voltage=232),\n",
       " Row(voltage=239),\n",
       " Row(voltage=223),\n",
       " Row(voltage=239),\n",
       " Row(voltage=229),\n",
       " Row(voltage=234),\n",
       " Row(voltage=250),\n",
       " Row(voltage=229),\n",
       " Row(voltage=227),\n",
       " Row(voltage=225),\n",
       " Row(voltage=235),\n",
       " Row(voltage=234),\n",
       " Row(voltage=221),\n",
       " Row(voltage=236),\n",
       " Row(voltage=222),\n",
       " Row(voltage=221),\n",
       " Row(voltage=235),\n",
       " Row(voltage=232),\n",
       " Row(voltage=229),\n",
       " Row(voltage=226),\n",
       " Row(voltage=235),\n",
       " Row(voltage=234),\n",
       " Row(voltage=235),\n",
       " Row(voltage=227),\n",
       " Row(voltage=221),\n",
       " Row(voltage=220),\n",
       " Row(voltage=223),\n",
       " Row(voltage=231),\n",
       " Row(voltage=227),\n",
       " Row(voltage=226),\n",
       " Row(voltage=222),\n",
       " Row(voltage=226),\n",
       " Row(voltage=220),\n",
       " Row(voltage=229),\n",
       " Row(voltage=222),\n",
       " Row(voltage=231),\n",
       " Row(voltage=221),\n",
       " Row(voltage=229),\n",
       " Row(voltage=231),\n",
       " Row(voltage=237),\n",
       " Row(voltage=224),\n",
       " Row(voltage=221),\n",
       " Row(voltage=236),\n",
       " Row(voltage=222),\n",
       " Row(voltage=228),\n",
       " Row(voltage=238),\n",
       " Row(voltage=239),\n",
       " Row(voltage=238),\n",
       " Row(voltage=240),\n",
       " Row(voltage=250),\n",
       " Row(voltage=238),\n",
       " Row(voltage=233),\n",
       " Row(voltage=230),\n",
       " Row(voltage=223),\n",
       " Row(voltage=226),\n",
       " Row(voltage=239),\n",
       " Row(voltage=223),\n",
       " Row(voltage=235),\n",
       " Row(voltage=222),\n",
       " Row(voltage=230),\n",
       " Row(voltage=257),\n",
       " Row(voltage=224),\n",
       " Row(voltage=238),\n",
       " Row(voltage=236),\n",
       " Row(voltage=228),\n",
       " Row(voltage=228),\n",
       " Row(voltage=255),\n",
       " Row(voltage=235),\n",
       " Row(voltage=254),\n",
       " Row(voltage=224),\n",
       " Row(voltage=237),\n",
       " Row(voltage=229),\n",
       " Row(voltage=224),\n",
       " Row(voltage=236),\n",
       " Row(voltage=230),\n",
       " Row(voltage=223),\n",
       " Row(voltage=220),\n",
       " Row(voltage=228),\n",
       " Row(voltage=229),\n",
       " Row(voltage=222),\n",
       " Row(voltage=236),\n",
       " Row(voltage=223),\n",
       " Row(voltage=235),\n",
       " Row(voltage=225),\n",
       " Row(voltage=220),\n",
       " Row(voltage=230),\n",
       " Row(voltage=238),\n",
       " Row(voltage=234),\n",
       " Row(voltage=223),\n",
       " Row(voltage=222),\n",
       " Row(voltage=234),\n",
       " Row(voltage=221),\n",
       " Row(voltage=242),\n",
       " Row(voltage=223),\n",
       " Row(voltage=220),\n",
       " Row(voltage=220),\n",
       " Row(voltage=224),\n",
       " Row(voltage=238),\n",
       " Row(voltage=232),\n",
       " Row(voltage=221),\n",
       " Row(voltage=228),\n",
       " Row(voltage=220),\n",
       " Row(voltage=239),\n",
       " Row(voltage=253),\n",
       " Row(voltage=231),\n",
       " Row(voltage=227),\n",
       " Row(voltage=239),\n",
       " Row(voltage=228),\n",
       " Row(voltage=227),\n",
       " Row(voltage=232),\n",
       " Row(voltage=237),\n",
       " Row(voltage=257),\n",
       " Row(voltage=220),\n",
       " Row(voltage=234),\n",
       " Row(voltage=227)]"
      ]
     },
     "execution_count": 9,
     "metadata": {},
     "output_type": "execute_result"
    }
   ],
   "source": [
    "# Using Spark SQL, we issue a SQL query to get a voltage values\n",
    "result_volt = spark.sql('select voltage from washing where voltage is not null')\n",
    "result_volt.collect()"
   ]
  },
  {
   "cell_type": "markdown",
   "metadata": {},
   "source": [
    "### NOTE: \n",
    "seems that the values are somehow wrapped in a row object (agrupados em um obj de linha), we use the Lambda function to obtain individual instances of the row wrappers objects, and in the lambda function, we basically can directly access the wrapped value. \n"
   ]
  },
  {
   "cell_type": "code",
   "execution_count": 10,
   "metadata": {},
   "outputs": [
    {
     "data": {
      "text/plain": [
       "[236, 235, 228, 236, 233, 226, 235, 220, 225, 239]"
      ]
     },
     "execution_count": 10,
     "metadata": {},
     "output_type": "execute_result"
    }
   ],
   "source": [
    "# Dataframes are wrappers of rdds, we can access the wrapped rdd and the rdd API in order to extract the \n",
    "# containing values in the row wrapper objects.\n",
    "result_volt.rdd.map(lambda row : row.voltage).take(10)"
   ]
  },
  {
   "cell_type": "markdown",
   "metadata": {},
   "source": [
    "### **Important:\n",
    "The most important function this week is the sample function, in order to obtain a random fraction of the original data, this is not necessary here. But imagine that this dataframe could potentially contain trillions of rows on petabytes of data!!!   "
   ]
  },
  {
   "cell_type": "code",
   "execution_count": 11,
   "metadata": {
    "scrolled": true
   },
   "outputs": [
    {
     "data": {
      "text/plain": [
       "[236,\n",
       " 227,\n",
       " 225,\n",
       " 233,\n",
       " 230,\n",
       " 222,\n",
       " 235,\n",
       " 237,\n",
       " 231,\n",
       " 234,\n",
       " 238,\n",
       " 231,\n",
       " 233,\n",
       " 248,\n",
       " 220,\n",
       " 225,\n",
       " 247,\n",
       " 236,\n",
       " 254,\n",
       " 224,\n",
       " 231,\n",
       " 220,\n",
       " 234,\n",
       " 228,\n",
       " 238,\n",
       " 234,\n",
       " 233,\n",
       " 235,\n",
       " 229,\n",
       " 235,\n",
       " 223,\n",
       " 234,\n",
       " 236,\n",
       " 232,\n",
       " 223,\n",
       " 226,\n",
       " 231,\n",
       " 231,\n",
       " 233,\n",
       " 224,\n",
       " 230,\n",
       " 235,\n",
       " 234,\n",
       " 221,\n",
       " 232,\n",
       " 220,\n",
       " 237]"
      ]
     },
     "execution_count": 11,
     "metadata": {},
     "output_type": "execute_result"
    }
   ],
   "source": [
    "result_volt_array = result_volt.rdd.map(lambda row : row.voltage).sample(False,0.1).collect()\n",
    "result_volt_array"
   ]
  },
  {
   "cell_type": "code",
   "execution_count": 12,
   "metadata": {},
   "outputs": [],
   "source": [
    "import matplotlib.pyplot as plt\n",
    "%matplotlib inline"
   ]
  },
  {
   "cell_type": "code",
   "execution_count": 13,
   "metadata": {},
   "outputs": [
    {
     "data": {
      "image/png": "[encoded data removed]",
      "text/plain": [
       "<Figure size 432x288 with 1 Axes>"
      ]
     },
     "metadata": {
      "needs_background": "light"
     },
     "output_type": "display_data"
    }
   ],
   "source": [
    "# Plot\n",
    "plt.boxplot(result_volt_array)\n",
    "plt.show()"
   ]
  },
  {
   "cell_type": "markdown",
   "metadata": {},
   "source": [
    "# Run charts"
   ]
  },
  {
   "cell_type": "code",
   "execution_count": 14,
   "metadata": {
    "scrolled": true
   },
   "outputs": [
    {
     "data": {
      "text/plain": [
       "[(1547808734922, 234),\n",
       " (1547808779950, 220),\n",
       " (1547808782951, 220),\n",
       " (1547808906089, 228),\n",
       " (1547808918094, 222),\n",
       " (1547808936120, 234),\n",
       " (1547808966142, 221),\n",
       " (1547808969144, 231),\n",
       " (1547809014196, 255),\n",
       " (1547809191320, 238),\n",
       " (1547809200323, 234),\n",
       " (1547809233344, 236),\n",
       " (1547809257358, 225),\n",
       " (1547809269373, 235),\n",
       " (1547809284381, 228),\n",
       " (1547809383432, 239),\n",
       " (1547809431468, 227),\n",
       " (1547809452479, 236),\n",
       " (1547809455481, 231),\n",
       " (1547809458483, 234),\n",
       " (1547809476494, 223),\n",
       " (1547809527533, 229),\n",
       " (1547809563554, 239),\n",
       " (1547809602581, 251),\n",
       " (1547809608585, 253),\n",
       " (1547809611586, 250),\n",
       " (1547809695646, 229),\n",
       " (1547809761693, 235),\n",
       " (1547809776704, 223),\n",
       " (1547809794715, 221),\n",
       " (1547809827733, 231),\n",
       " (1547809830733, 223),\n",
       " (1547809836736, 221),\n",
       " (1547809839737, 232),\n",
       " (1547809869750, 232),\n",
       " (1547809917777, 254),\n",
       " (1547809935784, 220),\n",
       " (1547809938785, 236),\n",
       " (1547809944788, 228),\n",
       " (1547810043826, 233),\n",
       " (1547810046827, 236)]"
      ]
     },
     "execution_count": 14,
     "metadata": {},
     "output_type": "execute_result"
    }
   ],
   "source": [
    "# For creating a run chart, we need to fetch an additional dimension from our dataset namely the time dimension\n",
    "result = spark.sql('select voltage,ts from washing where voltage is not null order by ts asc')\n",
    "result_array = result.rdd.sample(False,0.1).map(lambda row : (row.ts, row.voltage)).collect()\n",
    "result_array"
   ]
  },
  {
   "cell_type": "code",
   "execution_count": 15,
   "metadata": {},
   "outputs": [
    {
     "name": "stdout",
     "output_type": "stream",
     "text": [
      "[1547808722910, 1547808737926, 1547808764937, 1547808794957, 1547808852031, 1547808858035, 1547808876043, 1547808885074, 1547808918094, 1547808945126, 1547808999173, 1547809026203, 1547809122262, 1547809125263, 1547809170308]\n",
      "[221, 234, 221, 224, 223, 228, 221, 226, 222, 230, 247, 221, 235, 237, 226]\n"
     ]
    }
   ],
   "source": [
    "result = spark.sql(\"select voltage,ts from washing where voltage is not null order by ts asc\")\n",
    "result_rdd = result.rdd.sample(False,0.1).map(lambda row : (row.ts,row.voltage))\n",
    "result_array_ts = result_rdd.map(lambda ts_voltage: ts_voltage[0]).collect()\n",
    "result_array_voltage = result_rdd.map(lambda ts_voltage: ts_voltage[1]).collect()\n",
    "print(result_array_ts[:15])\n",
    "print(result_array_voltage[:15])"
   ]
  },
  {
   "cell_type": "code",
   "execution_count": 17,
   "metadata": {},
   "outputs": [
    {
     "data": {
      "image/png": "[encoded data removed]",
      "text/plain": [
       "<Figure size 432x288 with 1 Axes>"
      ]
     },
     "metadata": {
      "needs_background": "light"
     },
     "output_type": "display_data"
    }
   ],
   "source": [
    "# Plot timestamp\n",
    "plt.plot(result_array_ts, result_array_voltage)\n",
    "plt.xlabel('time')\n",
    "plt.ylabel('voltage')\n",
    "plt.show()"
   ]
  },
  {
   "cell_type": "markdown",
   "metadata": {},
   "source": [
    "# ScatterPlots"
   ]
  },
  {
   "cell_type": "code",
   "execution_count": 20,
   "metadata": {},
   "outputs": [],
   "source": [
    "# Let's add the columns to the projection list, we have to exclude the null values\n",
    "result_df = spark.sql(\"\"\"\n",
    "select hardness,temperature,flowrate from washing\n",
    "    where hardness is not null and \n",
    "    temperature is not null and \n",
    "    flowrate is not null\n",
    "\"\"\")\n",
    "# Unwrap the row objects\n",
    "result_rdd = result_df.rdd.sample(False,0.1).map(lambda row : (row.hardness,row.temperature,row.flowrate))\n",
    "\n",
    "result_array_hardness = result_rdd.map(lambda hardness_temperature_flowrate: hardness_temperature_flowrate[0]).collect()\n",
    "\n",
    "result_array_temperature = result_rdd.map(lambda hardness_temperature_flowrate: hardness_temperature_flowrate[1]).collect()\n",
    "\n",
    "result_array_flowrate = result_rdd.map(lambda hardness_temperature_flowrate: hardness_temperature_flowrate[2]).collect()"
   ]
  },
  {
   "cell_type": "code",
   "execution_count": 22,
   "metadata": {},
   "outputs": [
    {
     "data": {
      "image/png": "[encoded data removed]",
      "text/plain": [
       "<Figure size 432x288 with 1 Axes>"
      ]
     },
     "metadata": {
      "needs_background": "light"
     },
     "output_type": "display_data"
    }
   ],
   "source": [
    "# Once done it is very simple to import the necessary library and create a scatter plot\n",
    "from mpl_toolkits.mplot3d import Axes3D\n",
    "\n",
    "fig = plt.figure()\n",
    "ax = fig.add_subplot(111, projection='3d')\n",
    "\n",
    "ax.scatter(result_array_hardness,result_array_temperature,result_array_flowrate, c='r', marker='o')\n",
    "\n",
    "ax.set_xlabel('hardness')\n",
    "ax.set_ylabel('temperature')\n",
    "ax.set_zlabel('flowrate')\n",
    "\n",
    "plt.show()"
   ]
  },
  {
   "cell_type": "markdown",
   "metadata": {},
   "source": [
    "# Histograms"
   ]
  },
  {
   "cell_type": "code",
   "execution_count": 23,
   "metadata": {},
   "outputs": [
    {
     "data": {
      "image/png": "[encoded data removed]",
      "text/plain": [
       "<Figure size 432x288 with 1 Axes>"
      ]
     },
     "metadata": {
      "needs_background": "light"
     },
     "output_type": "display_data"
    }
   ],
   "source": [
    "plt.hist(result_array_hardness)\n",
    "plt.show()"
   ]
  },
  {
   "cell_type": "code",
   "execution_count": 24,
   "metadata": {},
   "outputs": [
    {
     "data": {
      "image/png": "[encoded data removed]",
      "text/plain": [
       "<Figure size 432x288 with 1 Axes>"
      ]
     },
     "metadata": {
      "needs_background": "light"
     },
     "output_type": "display_data"
    }
   ],
   "source": [
    "plt.hist(result_array_temperature)\n",
    "plt.show()"
   ]
  },
  {
   "cell_type": "code",
   "execution_count": 25,
   "metadata": {},
   "outputs": [
    {
     "data": {
      "image/png": "[encoded data removed]",
      "text/plain": [
       "<Figure size 432x288 with 1 Axes>"
      ]
     },
     "metadata": {
      "needs_background": "light"
     },
     "output_type": "display_data"
    }
   ],
   "source": [
    "plt.hist(result_array_flowrate)\n",
    "plt.show()"
   ]
  },
  {
   "cell_type": "markdown",
   "metadata": {},
   "source": [
    "# End"
   ]
  }
 ],
 "metadata": {
  "kernelspec": {
   "display_name": "Python 3",
   "language": "python",
   "name": "python3"
  },
  "language_info": {
   "codemirror_mode": {
    "name": "ipython",
    "version": 3
   },
   "file_extension": ".py",
   "mimetype": "text/x-python",
   "name": "python",
   "nbconvert_exporter": "python",
   "pygments_lexer": "ipython3",
   "version": "3.7.6"
  }
 },
 "nbformat": 4,
 "nbformat_minor": 4
}
