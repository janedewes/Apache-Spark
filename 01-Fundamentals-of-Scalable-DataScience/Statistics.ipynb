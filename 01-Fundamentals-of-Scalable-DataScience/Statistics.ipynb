{
 "cells": [
  {
   "cell_type": "markdown",
   "metadata": {},
   "source": [
    "# Averages"
   ]
  },
  {
   "cell_type": "markdown",
   "metadata": {},
   "source": [
    "### Mean & Median"
   ]
  },
  {
   "cell_type": "code",
   "execution_count": 1,
   "metadata": {},
   "outputs": [
    {
     "data": {
      "text/plain": [
       "'3.0.0-preview2'"
      ]
     },
     "execution_count": 1,
     "metadata": {},
     "output_type": "execute_result"
    }
   ],
   "source": [
    "sc.version"
   ]
  },
  {
   "cell_type": "code",
   "execution_count": null,
   "metadata": {},
   "outputs": [],
   "source": [
    "rdd = sc.parallelize([101]+range(100)+[102,103,104],1000,100)"
   ]
  },
  {
   "cell_type": "code",
   "execution_count": null,
   "metadata": {},
   "outputs": [],
   "source": [
    "sum = rdd.sum()\n",
    "n = rdd.count()\n",
    "mean = sum/n\n",
    "print(mean)"
   ]
  },
  {
   "cell_type": "code",
   "execution_count": null,
   "metadata": {},
   "outputs": [],
   "source": [
    "rdd.sortBy(lambda x : x).zipWithIndex().map(lambda (value,key) : (key,value)).collect()"
   ]
  },
  {
   "cell_type": "code",
   "execution_count": null,
   "metadata": {},
   "outputs": [],
   "source": [
    "sortedAndIndexed = rdd.sortBy(lambda x : x).zipWithIndex().map(lambda (value,key) : (key,value))\n",
    "n = sortedAndIndexed.count()\n",
    "\n",
    "if (n % 2 == 1):\n",
    "    index = (n-1)/2\n",
    "    print(sortedAndIndexed.lookup(index))\n",
    "else:\n",
    "    index1 = (n/2)-1\n",
    "    index2 = n/2\n",
    "    value1 = sortedAndIndexed.lookup(index1)[0]\n",
    "    value2 = sortedAndIndexed.lookup(index2)[0]\n",
    "    print(value1+value2)/2"
   ]
  },
  {
   "cell_type": "markdown",
   "metadata": {},
   "source": [
    "Note: the MEDIAN value is more outlier resistant. "
   ]
  },
  {
   "cell_type": "markdown",
   "metadata": {},
   "source": [
    "### Standard Deviation"
   ]
  },
  {
   "cell_type": "code",
   "execution_count": 10,
   "metadata": {},
   "outputs": [
    {
     "name": "stdout",
     "output_type": "stream",
     "text": [
      "10.25\n"
     ]
    },
    {
     "data": {
      "text/plain": [
       "13.392317449443418"
      ]
     },
     "execution_count": 10,
     "metadata": {},
     "output_type": "execute_result"
    }
   ],
   "source": [
    "# Example 1\n",
    "lst = (1,2,4,5,34,1,32,4,34,2,1,3)\n",
    "\n",
    "rdd = sc.parallelize(lst)\n",
    "\n",
    "# To calculate de Standard Deviation is necessary the MEAN\n",
    "sum = rdd.sum()\n",
    "n = rdd.count()\n",
    "mean = sum/n\n",
    "print(mean)\n",
    "\n",
    "\n",
    "# Calculate Standard Deviation (.map() is to apply a function to each entry in a RDD)\n",
    "# from math import sqrt\n",
    "sqrt(rdd.map(lambda x : pow(x-mean,2)).sum()/n)"
   ]
  },
  {
   "cell_type": "code",
   "execution_count": 8,
   "metadata": {},
   "outputs": [
    {
     "name": "stdout",
     "output_type": "stream",
     "text": [
      "49.0\n"
     ]
    },
    {
     "data": {
      "text/plain": [
       "0.0"
      ]
     },
     "execution_count": 8,
     "metadata": {},
     "output_type": "execute_result"
    }
   ],
   "source": [
    "# Example 2 - Mean and SD\n",
    "rdd1 = sc.parallelize([49]*100)\n",
    "\n",
    "# Mean\n",
    "sum = rdd1.sum()\n",
    "n = rdd1.count()\n",
    "mean = sum/n\n",
    "print(mean)\n",
    "\n",
    "# SD\n",
    "sqrt(rdd1.map(lambda x : pow(x-mean,2)).sum()/n)\n",
    "\n",
    "# Note: The SD is 0 because all values are lying on the mean, so they are not spread at all!"
   ]
  },
  {
   "cell_type": "code",
   "execution_count": 9,
   "metadata": {},
   "outputs": [
    {
     "name": "stdout",
     "output_type": "stream",
     "text": [
      "50.0\n"
     ]
    },
    {
     "data": {
      "text/plain": [
       "5.0990195135927845"
      ]
     },
     "execution_count": 9,
     "metadata": {},
     "output_type": "execute_result"
    }
   ],
   "source": [
    "# Example 3 - Mean and SD\n",
    "rdd2 = sc.parallelize([49]*100+[100])\n",
    "\n",
    "# Mean\n",
    "sum = rdd2.sum()\n",
    "n = rdd1.count()\n",
    "mean = sum/n\n",
    "print(mean)\n",
    "\n",
    "# SD\n",
    "sqrt(rdd2.map(lambda x : pow(x-mean,2)).sum()/n)\n",
    "\n",
    "#Note: The mean stays the same, but SD increases, since on value now is spread far away from the mean!"
   ]
  },
  {
   "cell_type": "markdown",
   "metadata": {},
   "source": [
    "### Skewness"
   ]
  },
  {
   "cell_type": "code",
   "execution_count": 53,
   "metadata": {},
   "outputs": [
    {
     "name": "stdout",
     "output_type": "stream",
     "text": [
      "10.25\n",
      "13.392317449443418\n",
      "1.1299979110691871\n"
     ]
    }
   ],
   "source": [
    "# Example\n",
    "\n",
    "lst = (1,2,4,5,34,1,32,4,34,2,1,3)\n",
    "\n",
    "rdd4 = sc.parallelize(lst)\n",
    "\n",
    "# To calculate de Standard Deviation is necessary the MEAN\n",
    "sum = rdd4.sum()\n",
    "n = rdd4.count()\n",
    "mean = sum/n\n",
    "print(mean)\n",
    "\n",
    "\n",
    "# Calculate Standard Deviation in put in s variable\n",
    "# from math import sqrt\n",
    "sd = sqrt(rdd4.map(lambda x : pow(x-mean,2)).sum()/n)\n",
    "print(sd)\n",
    "\n",
    "\n",
    "# Let's cast and to float since we are using it to create a normalization constant. \n",
    "# Make sure it doesn't get rounded to an integer value\n",
    "n = float(n)\n",
    "\n",
    "# Now let's calculate the SKEW: (formula)\n",
    "skewness = 1/n*(rdd4.map(lambda x : pow(x-mean,3)/pow(sd,3)).sum())\n",
    "print(skewness)"
   ]
  },
  {
   "cell_type": "markdown",
   "metadata": {},
   "source": [
    "### Kurtosis"
   ]
  },
  {
   "cell_type": "code",
   "execution_count": 65,
   "metadata": {},
   "outputs": [
    {
     "name": "stdout",
     "output_type": "stream",
     "text": [
      "10.25\n",
      "13.392317449443418\n",
      "2.326135570534074\n"
     ]
    }
   ],
   "source": [
    "# Example 1\n",
    "\n",
    "lst = (1,2,4,5,34,1,32,4,34,2,1,3)\n",
    "\n",
    "rdd5 = sc.parallelize(lst)\n",
    "\n",
    "# To calculate de Standard Deviation is necessary the MEAN\n",
    "sum = rdd5.sum()\n",
    "n = rdd5.count()\n",
    "mean = sum/n\n",
    "print(mean)\n",
    "\n",
    "\n",
    "# Calculate Standard Deviation in put in s variable\n",
    "# from math import sqrt\n",
    "sd = sqrt(rdd5.map(lambda x : pow(x-mean,2)).sum()/n)\n",
    "print(sd)\n",
    "\n",
    "\n",
    "# Let's cast and to float since we are using it to create a normalization constant. \n",
    "# Make sure it doesn't get rounded to an integer value\n",
    "n = float(n)\n",
    "\n",
    "# Now let's calculate the KURTOSIS: (formula)\n",
    "kurtosis = 1/n*(rdd5.map(lambda x : pow(x-mean,4)/pow(sd,4)).sum())\n",
    "print(kurtosis)"
   ]
  },
  {
   "cell_type": "markdown",
   "metadata": {},
   "source": [
    "### Covariance & Correlation"
   ]
  },
  {
   "cell_type": "code",
   "execution_count": 68,
   "metadata": {},
   "outputs": [],
   "source": [
    "# RDDs\n",
    "rddX = sc.parallelize(range(100))\n",
    "rddY = sc.parallelize(range(100))"
   ]
  },
  {
   "cell_type": "code",
   "execution_count": 72,
   "metadata": {},
   "outputs": [
    {
     "name": "stdout",
     "output_type": "stream",
     "text": [
      "49.5\n",
      "49.5\n"
     ]
    }
   ],
   "source": [
    "# Mean \n",
    "meanX = rddX.sum()/float(rddX.count())\n",
    "meanY = rddY.sum()/float(rddY.count())\n",
    "print(meanX)\n",
    "print(meanY)"
   ]
  },
  {
   "cell_type": "code",
   "execution_count": null,
   "metadata": {},
   "outputs": [],
   "source": [
    "# Zip them together (XY)\n",
    "rddXY = rddX.zip(rddY)\n",
    "covXY = rddXY.map(lambda (x,y) : (x-meanX)*(y-meanY)).sum()/rddXY.count()\n",
    "covXY"
   ]
  },
  {
   "cell_type": "code",
   "execution_count": null,
   "metadata": {},
   "outputs": [],
   "source": [
    "# Standard Deviation\n",
    "from math import sqrt\n",
    "n = rddXY.count()\n",
    "sdX = sqrt(rddX.map(lambda x : pow(x-meanX,2)).sum()/n)\n",
    "sdY = sqrt(rddY.map(lambda x : pow(x-meanY,2)).sum()/n)\n",
    "print(sdX)\n",
    "print(sdY)"
   ]
  },
  {
   "cell_type": "code",
   "execution_count": null,
   "metadata": {},
   "outputs": [],
   "source": [
    "# To calculate the Correlation by dividing the covariance by the product of the standard deviation from \n",
    "# each column. \n",
    "corrXY = covXY / (sdX * sdY)\n",
    "corrXY"
   ]
  },
  {
   "cell_type": "markdown",
   "metadata": {},
   "source": [
    "### Correlation Matrix "
   ]
  },
  {
   "cell_type": "code",
   "execution_count": null,
   "metadata": {},
   "outputs": [],
   "source": [
    "import random\n",
    "from pyspark.mllib.stat import Statistics\n",
    "\n",
    "column1 = sc.parallelize(range(100))\n",
    "column2 = sc.parallelize(range(100,200))\n",
    "column3 = sc.parallelize(list(reversed(100)))\n",
    "column4 = sc.parallelize(random.sample(range(100),100))\n",
    "data = column1.zip(column2).zip(column3).zip(column4).map(lambda (((a,b),c),d) : (a,b,c,d)).map(lambda (a,b,c,d):[a,b,c,d]) #this code braks in Py3.x\n",
    "Statistics.corr(data)"
   ]
  },
  {
   "cell_type": "markdown",
   "metadata": {},
   "source": [
    "### Using statistics lib"
   ]
  },
  {
   "cell_type": "code",
   "execution_count": 55,
   "metadata": {},
   "outputs": [],
   "source": [
    "import statistics "
   ]
  },
  {
   "cell_type": "code",
   "execution_count": 59,
   "metadata": {},
   "outputs": [],
   "source": [
    "lst1 = range(101)"
   ]
  },
  {
   "cell_type": "code",
   "execution_count": 60,
   "metadata": {},
   "outputs": [
    {
     "data": {
      "text/plain": [
       "50"
      ]
     },
     "execution_count": 60,
     "metadata": {},
     "output_type": "execute_result"
    }
   ],
   "source": [
    "media = statistics.mean(lst1)\n",
    "media"
   ]
  },
  {
   "cell_type": "code",
   "execution_count": 61,
   "metadata": {},
   "outputs": [
    {
     "data": {
      "text/plain": [
       "50"
      ]
     },
     "execution_count": 61,
     "metadata": {},
     "output_type": "execute_result"
    }
   ],
   "source": [
    "mediana = statistics.median(lst1)\n",
    "mediana"
   ]
  },
  {
   "cell_type": "code",
   "execution_count": null,
   "metadata": {},
   "outputs": [],
   "source": [
    "# Check the lib\n",
    "help(statistics)"
   ]
  },
  {
   "cell_type": "markdown",
   "metadata": {},
   "source": [
    "# End"
   ]
  }
 ],
 "metadata": {
  "kernelspec": {
   "display_name": "Python 3",
   "language": "python",
   "name": "python3"
  },
  "language_info": {
   "codemirror_mode": {
    "name": "ipython",
    "version": 3
   },
   "file_extension": ".py",
   "mimetype": "text/x-python",
   "name": "python",
   "nbconvert_exporter": "python",
   "pygments_lexer": "ipython3",
   "version": "3.7.6"
  }
 },
 "nbformat": 4,
 "nbformat_minor": 4
}
